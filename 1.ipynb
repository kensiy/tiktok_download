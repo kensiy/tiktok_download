{
 "cells": [
  {
   "cell_type": "code",
   "execution_count": 7,
   "metadata": {},
   "outputs": [
    {
     "name": "stdout",
     "output_type": "stream",
     "text": [
      "7188173326198656316\n"
     ]
    }
   ],
   "source": [
    "import requests\n",
    "\n",
    "url = 'https://v.douyin.com/k9XC8F4/'\n",
    "\n",
    "res = requests.get(url)\n",
    "\n",
    "aweme_id = res.url.split('/')[5]\n",
    "print(aweme_id)"
   ]
  },
  {
   "cell_type": "code",
   "execution_count": 8,
   "metadata": {},
   "outputs": [
    {
     "name": "stdout",
     "output_type": "stream",
     "text": [
      "v0200fg10000cf0o3r3c77ucaod7n84g\n"
     ]
    }
   ],
   "source": [
    "import json\n",
    "\n",
    "res2 = requests.get('https://www.iesdouyin.com/aweme/v1/web/aweme/detail/?aweme_id=' + aweme_id)\n",
    "# 将json字符串转换为字典\n",
    "datadict = json.loads(res2.text)\n",
    "video_id = datadict['aweme_detail']['video']['bit_rate'][0]['play_addr']['uri']\n",
    "print(video_id)"
   ]
  },
  {
   "cell_type": "code",
   "execution_count": null,
   "metadata": {},
   "outputs": [],
   "source": [
    "# 到这一步可以停止了，已经获取到下载链接，格式为\n",
    "# url = f'https://aweme.snssdk.com/aweme/v1/play/?video_id={video_id}&ratio=1080p&line=0'"
   ]
  },
  {
   "cell_type": "code",
   "execution_count": 10,
   "metadata": {},
   "outputs": [
    {
     "name": "stdout",
     "output_type": "stream",
     "text": [
      "https://v26-cold.douyinvod.com/22470109b81beacc45070edc90e8eb57/63c2e361/video/tos/cn/tos-cn-ve-15c001-alinc2/oIGdDAueYCCanDRjew8bABg3gD81HkhW9unxAs/?a=1128&ch=0&cr=0&dr=0&cd=0%7C0%7C0%7C0&cv=1&br=1356&bt=1356&cs=0&ds=4&ft=y3pHe998xl8uEe~10P5H4eaciDXR1b7p-AYwF_WRUMEK2Nz7t&mime_type=video_mp4&qs=0&rc=Nzo1PGg4OzxkNGQ0OTtoZ0Bpajs6cmY6ZnVyaTMzNGkzM0A1Mi4vNjMwNTAxLjU2MWEvYSMxa2FecjQwMC1gLS1kLS9zcw%3D%3D&l=202301150011530F7D09911820FB90FDA8&btag=b0000\n"
     ]
    }
   ],
   "source": [
    "# 获取直链\n",
    "headers = {\"User-Agent\":'Mozilla/5.0 (Windows NT 6.1; WOW64; rv:47.0) Gecko/20100101 Firefox/47.0'}\n",
    "\n",
    "res3 = requests.get(f'https://aweme.snssdk.com/aweme/v1/play/?video_id={video_id}&ratio=1080p&line=0', headers=headers)\n",
    "print(res3.url)\n",
    "\n",
    "# res3中已包含视频文件，可直接另存为"
   ]
  }
 ],
 "metadata": {
  "kernelspec": {
   "display_name": "base",
   "language": "python",
   "name": "python3"
  },
  "language_info": {
   "codemirror_mode": {
    "name": "ipython",
    "version": 3
   },
   "file_extension": ".py",
   "mimetype": "text/x-python",
   "name": "python",
   "nbconvert_exporter": "python",
   "pygments_lexer": "ipython3",
   "version": "3.8.5 (default, Sep  3 2020, 21:29:08) [MSC v.1916 64 bit (AMD64)]"
  },
  "orig_nbformat": 4,
  "vscode": {
   "interpreter": {
    "hash": "1c7a3e7f27cdc44bc28ca475588a2f867901fbab62ecea98ae817f32d48b38ad"
   }
  }
 },
 "nbformat": 4,
 "nbformat_minor": 2
}
